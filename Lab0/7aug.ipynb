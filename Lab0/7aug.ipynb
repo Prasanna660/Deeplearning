{
  "nbformat": 4,
  "nbformat_minor": 0,
  "metadata": {
    "colab": {
      "provenance": []
    },
    "kernelspec": {
      "name": "python3",
      "display_name": "Python 3"
    },
    "language_info": {
      "name": "python"
    }
  },
  "cells": [
    {
      "cell_type": "code",
      "execution_count": null,
      "metadata": {
        "id": "TRV_WbXZPWtU"
      },
      "outputs": [],
      "source": [
        "import math\n",
        "\n",
        "def basic_sigmoid(x):\n",
        "  \"\"\"\n",
        "  Compute sigmoid of x.\n",
        "\n",
        "  Args:\n",
        "  x -- A scalar\n",
        "\n",
        "  Return:\n",
        "  s -- sigmoid(x)\n",
        "  \"\"\"\n",
        "\n",
        "  s = 1 / (1 + math.exp(-x))\n",
        "  return s"
      ]
    },
    {
      "cell_type": "code",
      "source": [
        "import numpy as np\n",
        "\n",
        "x= np.array([1,2,3])\n",
        "print(np.exp(x)) #result is (exp(1) (exp(2) (exp(3))))"
      ],
      "metadata": {
        "colab": {
          "base_uri": "https://localhost:8080/"
        },
        "id": "Eg167CEuPbtp",
        "outputId": "80599944-36a7-4ff6-fc86-2ea89f6169c2"
      },
      "execution_count": null,
      "outputs": [
        {
          "output_type": "stream",
          "name": "stdout",
          "text": [
            "[ 2.71828183  7.3890561  20.08553692]\n"
          ]
        }
      ]
    },
    {
      "cell_type": "code",
      "source": [
        "x= np.array([1,2,3])\n",
        "print(x+3)"
      ],
      "metadata": {
        "colab": {
          "base_uri": "https://localhost:8080/"
        },
        "id": "hMnDNNMOPen3",
        "outputId": "7e1f4d45-acac-4fd9-df29-a55ce4865d0f"
      },
      "execution_count": null,
      "outputs": [
        {
          "output_type": "stream",
          "name": "stdout",
          "text": [
            "[4 5 6]\n"
          ]
        }
      ]
    },
    {
      "cell_type": "code",
      "source": [
        "def basic_sigmoid(X):\n",
        "  \"\"\"\n",
        "  Compute sigmoid of x.\n",
        "\n",
        "  Args:\n",
        "  x -- A scalar\n",
        "\n",
        "  Return:\n",
        "  s -- sigmoid(x)\n",
        "    X:\n",
        "  \"\"\"\n",
        "\n",
        "  ### start code here\n",
        "\n",
        "  s=1/(1+np.exp(-X))\n",
        "  return s"
      ],
      "metadata": {
        "id": "uQ3JbeYfPhUh"
      },
      "execution_count": null,
      "outputs": []
    },
    {
      "cell_type": "code",
      "source": [
        "def basic_sigmoid(X):\n",
        "  \"\"\"\n",
        "  Compute sigmoid of x.\n",
        "\n",
        "  Args:\n",
        "  x -- A scalar\n",
        "\n",
        "  Return:\n",
        "  s -- sigmoid(x)\n",
        "    X:\n",
        "  \"\"\"\n",
        "\n",
        "  ### start code here\n",
        "\n",
        "  s=1/(1+np.exp(-X))\n",
        "\n",
        "  x= np.array([1,2,3])\n",
        "  print(\"sigmoid_derivative(x) = \" + str(sigmoid_derivative(x)))\n",
        "  return s\n",
        "\n",
        "def sigmoid_derivative(x):\n",
        "  \"\"\"\n",
        "  Compute the gradient (also called the slope or derivative) of the sigmoid function evaluated at x.\n",
        "\n",
        "  Arguments:\n",
        "  x -- A scalar or numpy array\n",
        "\n",
        "  Return:\n",
        "  ds -- Your computed gradient.\n",
        "  \"\"\"\n",
        "\n",
        "  s = 1/(1+np.exp(-x))\n",
        "  ds = s*(1-s)\n",
        "  return ds"
      ],
      "metadata": {
        "id": "GbZtObPHPl0h"
      },
      "execution_count": null,
      "outputs": []
    },
    {
      "cell_type": "code",
      "source": [
        "def image2vector(image):\n",
        "  \"\"\"\n",
        "  Argument:\n",
        "  image -- a numpy array of shape (length, height, depth)\n",
        "\n",
        "  Returns:\n",
        "  v -- a vector of shape (length*height*depth, 1)\n",
        "  \"\"\"\n",
        "  v = image.reshape((image.shape[0]*image.shape[1]*image.shape[2],1))\n",
        "  return v"
      ],
      "metadata": {
        "id": "n4qVwOaZPn2e"
      },
      "execution_count": null,
      "outputs": []
    },
    {
      "cell_type": "code",
      "source": [
        "#this is a 3 by 3 by 2 array, typyically images will be (num_px_x, num_px_y)\n",
        "image = np.array([[[0.67861392, 0.29380381],\n",
        "                  [0.90714982, 0.52835647],\n",
        "                  [0.42152512, 0.45017551]],\n",
        "\n",
        "                 [[0.92814219, 0.98667762],\n",
        "                  [0.85320470, 0.52351845],\n",
        "                  [0.19988212, 0.22973712]],\n",
        "\n",
        "                 [[0.67373664, 0.78836664],\n",
        "                  [0.88976655, 0.98876765],\n",
        "                  [0.97746733,0.76355456]]])\n",
        "\n",
        "print(\"image2vector(image) = \" + str(image2vector(image)))"
      ],
      "metadata": {
        "colab": {
          "base_uri": "https://localhost:8080/"
        },
        "id": "XVwNdx0IPpq3",
        "outputId": "1cf68709-1458-47d5-8821-577e6aa8a7c3"
      },
      "execution_count": null,
      "outputs": [
        {
          "output_type": "stream",
          "name": "stdout",
          "text": [
            "image2vector(image) = [[0.67861392]\n",
            " [0.29380381]\n",
            " [0.90714982]\n",
            " [0.52835647]\n",
            " [0.42152512]\n",
            " [0.45017551]\n",
            " [0.92814219]\n",
            " [0.98667762]\n",
            " [0.8532047 ]\n",
            " [0.52351845]\n",
            " [0.19988212]\n",
            " [0.22973712]\n",
            " [0.67373664]\n",
            " [0.78836664]\n",
            " [0.88976655]\n",
            " [0.98876765]\n",
            " [0.97746733]\n",
            " [0.76355456]]\n"
          ]
        }
      ]
    },
    {
      "cell_type": "code",
      "source": [
        "def noramlizeRows(x):\n",
        "  \"\"\"\n",
        "  Implement a function that normalizes each row of the matrix x (to have unit length).\n",
        "\n",
        "  Argument:\n",
        "  x -- A numpy matrix of shape (n, m)\n",
        "\n",
        "  Returns:\n",
        "  x -- The normalized (by row) numpy matrix. You\n",
        "  \"\"\"\n",
        "  x_norm = np.linalg.norm(x,axis=1,keepdims=True)\n",
        "  x = x/x_norm\n",
        "  return x"
      ],
      "metadata": {
        "id": "bpYsu9eDPqiG"
      },
      "execution_count": null,
      "outputs": []
    },
    {
      "cell_type": "code",
      "source": [
        "x = np.array([[0,1000,4000],\n",
        "             [2,6,4]])\n",
        "print(\"noramlizeRows(x) = \" + str(noramlizeRows(x)))"
      ],
      "metadata": {
        "colab": {
          "base_uri": "https://localhost:8080/"
        },
        "id": "zX3N-oQnPs42",
        "outputId": "9b474a11-0336-4f5a-89ca-9772bf56ce08"
      },
      "execution_count": null,
      "outputs": [
        {
          "output_type": "stream",
          "name": "stdout",
          "text": [
            "noramlizeRows(x) = [[0.         0.24253563 0.9701425 ]\n",
            " [0.26726124 0.80178373 0.53452248]]\n"
          ]
        }
      ]
    },
    {
      "cell_type": "code",
      "source": [
        "def softmax(x):\n",
        "  \"\"\"\n",
        "calculates the softmax for each row of the input x.\n",
        "  Args:\n",
        "    x: A numpy matrix of shape (n,m)\n",
        "\n",
        "  Returns:\n",
        "    s: A numpy matrix equal to the softmax of x, of shape (n,m)\n",
        "  \"\"\"\n",
        "  x_exp = np.exp(x)\n",
        "  x_sum = np.sum(x_exp,axis=1,keepdims=True)\n",
        "  s = x_exp/x_sum\n",
        "  return s"
      ],
      "metadata": {
        "id": "o2anB3m-RbOT"
      },
      "execution_count": null,
      "outputs": []
    },
    {
      "cell_type": "code",
      "source": [
        "x= np.array([\n",
        "  [9,2,5,0,0],\n",
        "  [7,5,0,0,0]])\n",
        "print(\"softmax(x) = \" + str(softmax(x)))"
      ],
      "metadata": {
        "colab": {
          "base_uri": "https://localhost:8080/"
        },
        "id": "e406sIA6Rbka",
        "outputId": "66076e1c-c2d3-4670-c01b-8c523814b9f1"
      },
      "execution_count": null,
      "outputs": [
        {
          "output_type": "stream",
          "name": "stdout",
          "text": [
            "softmax(x) = [[9.80897665e-01 8.94462891e-04 1.79657674e-02 1.21052389e-04\n",
            "  1.21052389e-04]\n",
            " [8.78679856e-01 1.18916387e-01 8.01252314e-04 8.01252314e-04\n",
            "  8.01252314e-04]]\n"
          ]
        }
      ]
    },
    {
      "cell_type": "markdown",
      "source": [
        "###Vectorization"
      ],
      "metadata": {
        "id": "CcjwnzffSpDU"
      }
    },
    {
      "cell_type": "code",
      "source": [
        "import time\n",
        "\n",
        "x1 = [9,2,5,0,0,7,5,0,0,9,2,5,0,0]\n",
        "x2 = [9,2,2,9,0,9,2,5,0,0,9,2,5,0]\n",
        "### CLASSIC DOT PRODUCT OF VECTORS IMPLEMENTATION ###\n",
        "tic = time.process_time()\n",
        "dot = 0\n",
        "for i in range(len(x1)):\n",
        "  dot+= x1[i]*x2[i]\n",
        "toc = time.process_time()\n",
        "\n",
        "print (\"dot = \" + str(dot) + \"\\n ----- Computation time = \" + str(1000*(toc - tic)) + \"ms\")\n",
        "\n",
        "###vectorized outer product\n",
        "tic = time.process_time()\n",
        "outer = np.zeros((len(x1),len(x2)))\n",
        "for i in range(len(x1)):\n",
        "  for j in range(len(x2)):\n",
        "    outer[i,j] = x1[i]*x2[j]\n",
        "    toc = time.process_time()\n",
        "print (\"outer = \" + str(outer) + \"\\n ----- Computation time = \" + str(1000*(toc - tic)) + \"ms\")\n",
        "\n",
        "###classic elementwise implementation\n",
        "tic = time.process_time()\n",
        "ele = np.zeros((len(x1),len(x2)))\n",
        "for i in range(len(x1)):\n",
        "  for j in range(len(x2)):\n",
        "    ele[i,j] = x1[i]*x2[j]\n",
        "    toc = time.process_time()\n",
        "print (\"elementwise = \" + str(ele) + \"\\n ----- Computation time = \" + str(1000*(toc - tic)) + \"ms\")\n",
        "\n"
      ],
      "metadata": {
        "colab": {
          "base_uri": "https://localhost:8080/"
        },
        "id": "47V3RDs2StsN",
        "outputId": "74473553-17cc-47b6-fa0d-5947f4e7a5d6"
      },
      "execution_count": null,
      "outputs": [
        {
          "output_type": "stream",
          "name": "stdout",
          "text": [
            "dot = 196\n",
            " ----- Computation time = 0.22058899999954917ms\n",
            "outer = [[81. 18. 18. 81.  0. 81. 18. 45.  0.  0. 81. 18. 45.  0.]\n",
            " [18.  4.  4. 18.  0. 18.  4. 10.  0.  0. 18.  4. 10.  0.]\n",
            " [45. 10. 10. 45.  0. 45. 10. 25.  0.  0. 45. 10. 25.  0.]\n",
            " [ 0.  0.  0.  0.  0.  0.  0.  0.  0.  0.  0.  0.  0.  0.]\n",
            " [ 0.  0.  0.  0.  0.  0.  0.  0.  0.  0.  0.  0.  0.  0.]\n",
            " [63. 14. 14. 63.  0. 63. 14. 35.  0.  0. 63. 14. 35.  0.]\n",
            " [45. 10. 10. 45.  0. 45. 10. 25.  0.  0. 45. 10. 25.  0.]\n",
            " [ 0.  0.  0.  0.  0.  0.  0.  0.  0.  0.  0.  0.  0.  0.]\n",
            " [ 0.  0.  0.  0.  0.  0.  0.  0.  0.  0.  0.  0.  0.  0.]\n",
            " [81. 18. 18. 81.  0. 81. 18. 45.  0.  0. 81. 18. 45.  0.]\n",
            " [18.  4.  4. 18.  0. 18.  4. 10.  0.  0. 18.  4. 10.  0.]\n",
            " [45. 10. 10. 45.  0. 45. 10. 25.  0.  0. 45. 10. 25.  0.]\n",
            " [ 0.  0.  0.  0.  0.  0.  0.  0.  0.  0.  0.  0.  0.  0.]\n",
            " [ 0.  0.  0.  0.  0.  0.  0.  0.  0.  0.  0.  0.  0.  0.]]\n",
            " ----- Computation time = 0.6466499999993047ms\n",
            "elementwise = [[81. 18. 18. 81.  0. 81. 18. 45.  0.  0. 81. 18. 45.  0.]\n",
            " [18.  4.  4. 18.  0. 18.  4. 10.  0.  0. 18.  4. 10.  0.]\n",
            " [45. 10. 10. 45.  0. 45. 10. 25.  0.  0. 45. 10. 25.  0.]\n",
            " [ 0.  0.  0.  0.  0.  0.  0.  0.  0.  0.  0.  0.  0.  0.]\n",
            " [ 0.  0.  0.  0.  0.  0.  0.  0.  0.  0.  0.  0.  0.  0.]\n",
            " [63. 14. 14. 63.  0. 63. 14. 35.  0.  0. 63. 14. 35.  0.]\n",
            " [45. 10. 10. 45.  0. 45. 10. 25.  0.  0. 45. 10. 25.  0.]\n",
            " [ 0.  0.  0.  0.  0.  0.  0.  0.  0.  0.  0.  0.  0.  0.]\n",
            " [ 0.  0.  0.  0.  0.  0.  0.  0.  0.  0.  0.  0.  0.  0.]\n",
            " [81. 18. 18. 81.  0. 81. 18. 45.  0.  0. 81. 18. 45.  0.]\n",
            " [18.  4.  4. 18.  0. 18.  4. 10.  0.  0. 18.  4. 10.  0.]\n",
            " [45. 10. 10. 45.  0. 45. 10. 25.  0.  0. 45. 10. 25.  0.]\n",
            " [ 0.  0.  0.  0.  0.  0.  0.  0.  0.  0.  0.  0.  0.  0.]\n",
            " [ 0.  0.  0.  0.  0.  0.  0.  0.  0.  0.  0.  0.  0.  0.]]\n",
            " ----- Computation time = 0.5365639999999061ms\n"
          ]
        }
      ]
    },
    {
      "cell_type": "code",
      "source": [
        "import time\n",
        "import numpy as np\n",
        "\n",
        "x1 = np.random.rand(1000)\n",
        "x2 = np.random.rand(1000)\n",
        "\n",
        "### CLASSIC DOT PRODUCT OF VECTORS IMPLEMENTATION ###\n",
        "tic = time.process_time()\n",
        "dot = 0\n",
        "for i in range(len(x1)):\n",
        "  dot+= x1[i]*x2[i]\n",
        "toc = time.process_time()\n",
        "\n",
        "print (\"dot = \" + str(dot) + \"\\n ----- Computation time = \" + str(1000*(toc - tic)) + \"ms\")"
      ],
      "metadata": {
        "colab": {
          "base_uri": "https://localhost:8080/"
        },
        "id": "mlJXehhhT2Pn",
        "outputId": "284d8be3-517a-4951-f5cf-e6383316ea0f"
      },
      "execution_count": null,
      "outputs": [
        {
          "output_type": "stream",
          "name": "stdout",
          "text": [
            "dot = 248.48700709998997\n",
            " ----- Computation time = 0.9026279999995168ms\n"
          ]
        }
      ]
    }
  ]
}